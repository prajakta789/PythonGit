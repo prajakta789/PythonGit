{
 "cells": [
  {
   "cell_type": "code",
   "execution_count": null,
   "id": "38f342d4-df38-46b1-812a-a703990bd78c",
   "metadata": {},
   "outputs": [],
   "source": [
    "#iterators\n",
    "for i in \"azad\":\n",
    "    print(i)"
   ]
  },
  {
   "cell_type": "code",
   "execution_count": null,
   "id": "7474da03-7e93-4bf4-b351-8b904e7aa7ae",
   "metadata": {},
   "outputs": [],
   "source": [
    "lis = [1,2, 3, 4, \"Ajay\"]\n",
    "for i in lis:\n",
    "    print(i)"
   ]
  },
  {
   "cell_type": "code",
   "execution_count": null,
   "id": "be237dfb-9344-4bb5-b827-667a9afdd809",
   "metadata": {},
   "outputs": [],
   "source": [
    "for i in 5:\n",
    "    print(i)"
   ]
  },
  {
   "cell_type": "code",
   "execution_count": null,
   "id": "04aba87f-baa2-4763-b2f5-cc39a055ab24",
   "metadata": {},
   "outputs": [],
   "source": [
    "#iterator is an object that is used to iterate over iterable objects\n",
    "#list, tuple, dict, string, sets"
   ]
  },
  {
   "cell_type": "code",
   "execution_count": null,
   "id": "771c49b8-03dc-4160-96d5-086190d21088",
   "metadata": {},
   "outputs": [],
   "source": [
    "s = \"azad\"\n",
    "\n",
    "iter(s)"
   ]
  },
  {
   "cell_type": "code",
   "execution_count": null,
   "id": "e4af9f9d-83e5-44d8-b5d7-d60884b43b9f",
   "metadata": {},
   "outputs": [],
   "source": [
    "iter(lis)"
   ]
  },
  {
   "cell_type": "code",
   "execution_count": null,
   "id": "8e4dab7d-a32c-4f47-87b6-0e574d9395d4",
   "metadata": {},
   "outputs": [],
   "source": [
    "iter(5)"
   ]
  },
  {
   "cell_type": "code",
   "execution_count": null,
   "id": "9b94a2bf-ad7a-4716-a9f8-63634a676a12",
   "metadata": {},
   "outputs": [],
   "source": [
    "for i in s:\n",
    "    print(i)"
   ]
  },
  {
   "cell_type": "code",
   "execution_count": null,
   "id": "3fa47240-4805-44ee-96ed-a5f1d64732b9",
   "metadata": {},
   "outputs": [],
   "source": [
    "iter(s)"
   ]
  },
  {
   "cell_type": "code",
   "execution_count": null,
   "id": "df3f0230-7ca0-463f-911b-658b87c5f739",
   "metadata": {},
   "outputs": [],
   "source": [
    "a = iter(s)"
   ]
  },
  {
   "cell_type": "code",
   "execution_count": null,
   "id": "ee0038e7-1680-4710-8cbe-0dc3aa199b69",
   "metadata": {},
   "outputs": [],
   "source": [
    "next(a)"
   ]
  },
  {
   "cell_type": "code",
   "execution_count": null,
   "id": "6c99ad49-c333-4691-bfe1-c0d2c2ca1c2e",
   "metadata": {},
   "outputs": [],
   "source": [
    "next(a)"
   ]
  },
  {
   "cell_type": "code",
   "execution_count": null,
   "id": "2158524b-99a1-4a7f-9a23-c90ad38e71fe",
   "metadata": {},
   "outputs": [],
   "source": [
    "next(a)"
   ]
  },
  {
   "cell_type": "code",
   "execution_count": null,
   "id": "c0e97e1e-ed4d-4edb-a402-89a061a5aee7",
   "metadata": {},
   "outputs": [],
   "source": [
    "next(a)"
   ]
  },
  {
   "cell_type": "code",
   "execution_count": null,
   "id": "67bb2408-8954-4d11-aacd-422051a4bf28",
   "metadata": {},
   "outputs": [],
   "source": [
    "next(a)"
   ]
  },
  {
   "cell_type": "code",
   "execution_count": null,
   "id": "140339df-2b75-4f7e-85cd-4e5cc9618599",
   "metadata": {},
   "outputs": [],
   "source": [
    "next(a)"
   ]
  },
  {
   "cell_type": "code",
   "execution_count": null,
   "id": "7b8f02ea-89c8-4e92-9390-1e844469a8a9",
   "metadata": {},
   "outputs": [],
   "source": [
    "next(a)"
   ]
  },
  {
   "cell_type": "code",
   "execution_count": null,
   "id": "d5bb7f64-4128-436e-b6dd-ae57661d9ac5",
   "metadata": {},
   "outputs": [],
   "source": [
    "next(a)"
   ]
  },
  {
   "cell_type": "code",
   "execution_count": null,
   "id": "eb605349-dfc6-4d06-896d-1f0a503e2ba2",
   "metadata": {},
   "outputs": [],
   "source": [
    "for i in s:\n",
    "    print(i)"
   ]
  },
  {
   "cell_type": "code",
   "execution_count": null,
   "id": "347d3184-bb98-408e-8cc8-49827ff7eb0b",
   "metadata": {},
   "outputs": [],
   "source": [
    "while True:\n",
    "    try:\n",
    "        s = iter(s)\n",
    "        item = next(s)\n",
    "        print(item)\n",
    "    except StopIteration:\n",
    "        break"
   ]
  },
  {
   "cell_type": "code",
   "execution_count": null,
   "id": "c6df56e1-25da-41e1-8352-f8982588576c",
   "metadata": {},
   "outputs": [],
   "source": [
    "#iterable, iterator, iterate\n",
    "for i in \"azad\":\n",
    "    print(i)"
   ]
  },
  {
   "cell_type": "code",
   "execution_count": null,
   "id": "458a1b25-8c4a-4ce4-b025-1d45c3bda40b",
   "metadata": {},
   "outputs": [],
   "source": [
    "s = \"Ajay\" #iterable>>object which can be iterated, ##iterator> To iterate the iterable is to be converted to iterator\n",
    "a = iter(s)"
   ]
  },
  {
   "cell_type": "code",
   "execution_count": null,
   "id": "df698ec4-684e-4e3e-bfc8-2b4a0428a7ee",
   "metadata": {},
   "outputs": [],
   "source": [
    "next(a)"
   ]
  },
  {
   "cell_type": "code",
   "execution_count": null,
   "id": "e5329309-9294-496b-8a94-1ea23359b679",
   "metadata": {},
   "outputs": [],
   "source": [
    "next(a)"
   ]
  },
  {
   "cell_type": "code",
   "execution_count": null,
   "id": "bbf5ad2e-c476-4559-8ddc-8071f166f3a2",
   "metadata": {},
   "outputs": [],
   "source": [
    "next(a)"
   ]
  },
  {
   "cell_type": "code",
   "execution_count": null,
   "id": "e142487e-95df-494a-9167-4e346a837023",
   "metadata": {},
   "outputs": [],
   "source": [
    "next(a)"
   ]
  },
  {
   "cell_type": "code",
   "execution_count": null,
   "id": "ceecdb79-27fa-460b-8b22-183b2954a124",
   "metadata": {},
   "outputs": [],
   "source": [
    "next(a)"
   ]
  },
  {
   "cell_type": "code",
   "execution_count": null,
   "id": "a5bfc9a1-30cf-4ab1-bf7b-1e87a34247de",
   "metadata": {},
   "outputs": [],
   "source": [
    "a = iter([1, 2, 3, 4])\n",
    "next(a)"
   ]
  },
  {
   "cell_type": "code",
   "execution_count": null,
   "id": "6cb0130e-ec25-470a-8c54-55e01f8b32a3",
   "metadata": {},
   "outputs": [],
   "source": [
    "next(a)"
   ]
  },
  {
   "cell_type": "code",
   "execution_count": null,
   "id": "dffe0ebe-4302-469a-939a-d549bf0ca604",
   "metadata": {},
   "outputs": [],
   "source": [
    "next(a)"
   ]
  },
  {
   "cell_type": "code",
   "execution_count": null,
   "id": "64c65d91-980f-48d4-85d2-c441a0007dee",
   "metadata": {},
   "outputs": [],
   "source": [
    "next(a)"
   ]
  },
  {
   "cell_type": "code",
   "execution_count": null,
   "id": "55769e7a-4201-46a0-a965-8d10189cf798",
   "metadata": {},
   "outputs": [],
   "source": [
    "t = iter((1,2,3, 4, 5))"
   ]
  },
  {
   "cell_type": "code",
   "execution_count": null,
   "id": "49622e77-6747-4414-9704-9609e33396fd",
   "metadata": {},
   "outputs": [],
   "source": [
    "next(t)"
   ]
  },
  {
   "cell_type": "code",
   "execution_count": null,
   "id": "30c7373c-b329-496f-ba27-43b5d6983f34",
   "metadata": {},
   "outputs": [],
   "source": [
    "next(t)"
   ]
  },
  {
   "cell_type": "code",
   "execution_count": null,
   "id": "5edbfb8b-f60f-4d3b-8c93-be21384d6dbd",
   "metadata": {},
   "outputs": [],
   "source": [
    "next(t)"
   ]
  },
  {
   "cell_type": "code",
   "execution_count": null,
   "id": "97dee7c3-780c-4635-a9e6-5915ce5f9c4d",
   "metadata": {},
   "outputs": [],
   "source": [
    "s = iter({1, 2, 3, })\n",
    "next(s)"
   ]
  },
  {
   "cell_type": "code",
   "execution_count": null,
   "id": "dc623e91-7d8c-46be-a4cd-bed560dfd049",
   "metadata": {},
   "outputs": [],
   "source": [
    "next(s)"
   ]
  },
  {
   "cell_type": "code",
   "execution_count": null,
   "id": "27dd6255-cbc2-4f03-97a0-a02170af72e1",
   "metadata": {},
   "outputs": [],
   "source": [
    "a = {\"sub\": \"ds\"}\n",
    "a"
   ]
  },
  {
   "cell_type": "code",
   "execution_count": null,
   "id": "3f671a3b-f10a-4d95-9038-53c84abd630c",
   "metadata": {},
   "outputs": [],
   "source": [
    "d = iter(a)"
   ]
  },
  {
   "cell_type": "code",
   "execution_count": null,
   "id": "15d69d6a-8a78-4655-97fb-8581ee20cbb4",
   "metadata": {},
   "outputs": [],
   "source": [
    "next(d)"
   ]
  },
  {
   "cell_type": "code",
   "execution_count": null,
   "id": "6c12db58-5fbf-43ca-807d-897df7bae612",
   "metadata": {},
   "outputs": [],
   "source": [
    "s = \"Ajay\"\n",
    "for i in s:\n",
    "    print(i)"
   ]
  },
  {
   "cell_type": "code",
   "execution_count": null,
   "id": "7e3fd0ce-c3c4-481a-8d67-b76d5511e94a",
   "metadata": {},
   "outputs": [],
   "source": [
    "#generator functions\n",
    "#generator is a type of function which does not return a single value, instead returns an iterator object"
   ]
  },
  {
   "cell_type": "code",
   "execution_count": null,
   "id": "ac277385-71a5-4f86-ba81-da5b47d22e52",
   "metadata": {},
   "outputs": [],
   "source": [
    "#regular function\n",
    "def square_numbers(n):\n",
    "    result = []\n",
    "    for i in range(n):\n",
    "        result.append(i ** 2)\n",
    "    return result\n",
    "square_numbers(5)"
   ]
  },
  {
   "cell_type": "code",
   "execution_count": null,
   "id": "ace151f3-e3b1-4cef-87cd-63f391d928f1",
   "metadata": {},
   "outputs": [],
   "source": [
    "def square_numbers_generator(n):\n",
    "    for i in range(n):\n",
    "        yield i ** 2"
   ]
  },
  {
   "cell_type": "code",
   "execution_count": null,
   "id": "6e8a4cb8-5834-48d0-96c2-073cad82158b",
   "metadata": {},
   "outputs": [],
   "source": [
    "gen = square_numbers_generator(5)"
   ]
  },
  {
   "cell_type": "code",
   "execution_count": null,
   "id": "f6651896-3510-4ec5-b6a2-0b3653d682e8",
   "metadata": {},
   "outputs": [],
   "source": [
    "gen"
   ]
  },
  {
   "cell_type": "code",
   "execution_count": null,
   "id": "e6cef27d-708f-42e9-96c1-db7ad23c0070",
   "metadata": {},
   "outputs": [],
   "source": [
    "next(gen)"
   ]
  },
  {
   "cell_type": "code",
   "execution_count": null,
   "id": "a256b9d9-fb9c-4abe-b3e1-22f24de2a1c2",
   "metadata": {},
   "outputs": [],
   "source": [
    "next(gen)"
   ]
  },
  {
   "cell_type": "code",
   "execution_count": null,
   "id": "46b42485-ba39-4d59-a073-f682dd736f4c",
   "metadata": {},
   "outputs": [],
   "source": [
    "next(gen)"
   ]
  },
  {
   "cell_type": "code",
   "execution_count": null,
   "id": "b6532e5d-95a9-4541-90cc-95a86079373d",
   "metadata": {},
   "outputs": [],
   "source": [
    "next(gen)"
   ]
  },
  {
   "cell_type": "code",
   "execution_count": null,
   "id": "02a57ac7-c1a4-4085-97ff-18f328c8cc82",
   "metadata": {},
   "outputs": [],
   "source": [
    "next(gen)"
   ]
  },
  {
   "cell_type": "code",
   "execution_count": null,
   "id": "f3befe3d-b5b0-4ea0-ad6b-c7ef595aba80",
   "metadata": {},
   "outputs": [],
   "source": [
    "next(gen)"
   ]
  },
  {
   "cell_type": "code",
   "execution_count": null,
   "id": "f8cce20b-84d9-444d-a74b-15ce798b9b79",
   "metadata": {},
   "outputs": [],
   "source": [
    "range(1, 10)"
   ]
  },
  {
   "cell_type": "code",
   "execution_count": null,
   "id": "72a0d979-8e92-4421-9b61-cf41251ae7ef",
   "metadata": {},
   "outputs": [],
   "source": [
    "for i in range(1, 10):\n",
    "    print(i)"
   ]
  },
  {
   "cell_type": "code",
   "execution_count": null,
   "id": "fe9a1194-220f-4b9a-9a1d-aa6df010eb96",
   "metadata": {},
   "outputs": [],
   "source": [
    "#fibonacci series 0, 1, 1, 2, 3, 5, 8, 13 ....\n",
    "\n",
    "def fib(n):\n",
    "    a = 0\n",
    "    b = 1\n",
    "    for i in range(n): #if n=5, 0, 1, 2, 3, 4\n",
    "        yield a\n",
    "        a,b = b, a+b"
   ]
  },
  {
   "cell_type": "code",
   "execution_count": null,
   "id": "e8a8b9cf-40cd-4b3d-aaff-43a2ae2d6126",
   "metadata": {},
   "outputs": [],
   "source": [
    "f = fib(10000000)"
   ]
  },
  {
   "cell_type": "code",
   "execution_count": null,
   "id": "2603ccb3-e874-47d9-95e3-fa9c5b50cea4",
   "metadata": {},
   "outputs": [],
   "source": [
    "next(f)"
   ]
  },
  {
   "cell_type": "code",
   "execution_count": null,
   "id": "746d9bf8-b64d-4c7d-aecd-e016184a43ac",
   "metadata": {},
   "outputs": [],
   "source": [
    "next(f)"
   ]
  },
  {
   "cell_type": "code",
   "execution_count": null,
   "id": "20340c0d-d1d1-45bf-bf49-b55f944ff475",
   "metadata": {},
   "outputs": [],
   "source": [
    "next(f)"
   ]
  },
  {
   "cell_type": "code",
   "execution_count": null,
   "id": "37d591f9-2d67-4fe4-a314-f6b474177e5d",
   "metadata": {},
   "outputs": [],
   "source": [
    "next(f)"
   ]
  },
  {
   "cell_type": "code",
   "execution_count": null,
   "id": "e2533a21-75fc-45ea-8ddf-183cb4d66471",
   "metadata": {},
   "outputs": [],
   "source": [
    "next(f)"
   ]
  },
  {
   "cell_type": "code",
   "execution_count": null,
   "id": "5524f7dd-4fa6-4a55-bd45-93f6b0ecf855",
   "metadata": {},
   "outputs": [],
   "source": [
    "next(f)"
   ]
  },
  {
   "cell_type": "code",
   "execution_count": null,
   "id": "4e9b90c7-af53-4a97-9707-6aea220dbc8b",
   "metadata": {},
   "outputs": [],
   "source": [
    "next(f)"
   ]
  },
  {
   "cell_type": "code",
   "execution_count": null,
   "id": "d2941fc3-7dcb-4820-b9be-4706abcb21b2",
   "metadata": {},
   "outputs": [],
   "source": [
    "next(f)"
   ]
  },
  {
   "cell_type": "code",
   "execution_count": null,
   "id": "d2251765-6cbc-4989-a4c4-09b2ada78324",
   "metadata": {},
   "outputs": [],
   "source": [
    "next(f)"
   ]
  },
  {
   "cell_type": "code",
   "execution_count": null,
   "id": "375fd472-9c59-4e1e-b7ea-df67351dcee1",
   "metadata": {},
   "outputs": [],
   "source": []
  }
 ],
 "metadata": {
  "kernelspec": {
   "display_name": "Python 3 (ipykernel)",
   "language": "python",
   "name": "python3"
  },
  "language_info": {
   "codemirror_mode": {
    "name": "ipython",
    "version": 3
   },
   "file_extension": ".py",
   "mimetype": "text/x-python",
   "name": "python",
   "nbconvert_exporter": "python",
   "pygments_lexer": "ipython3",
   "version": "3.10.8"
  }
 },
 "nbformat": 4,
 "nbformat_minor": 5
}
