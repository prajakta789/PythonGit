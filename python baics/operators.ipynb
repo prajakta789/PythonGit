{
 "cells": [
  {
   "cell_type": "code",
   "execution_count": null,
   "id": "f60fcaec-48df-4c00-8544-c6d7f3cf153e",
   "metadata": {},
   "outputs": [],
   "source": [
    "#what is operator>>> special keywords to perform operations\n",
    "#why? To manipualte data\n",
    "\n",
    "\n",
    "#arithmatic operator\n",
    "a = 5\n",
    "b = 2\n",
    "a+b"
   ]
  },
  {
   "cell_type": "code",
   "execution_count": null,
   "id": "16634c45-8344-4f7b-bb13-daaeb6c367b3",
   "metadata": {},
   "outputs": [],
   "source": [
    "add = 5+2\n",
    "print(add)"
   ]
  },
  {
   "cell_type": "code",
   "execution_count": null,
   "id": "55b1c6e2-997e-498e-950a-3282d4fcfebc",
   "metadata": {},
   "outputs": [],
   "source": [
    "add"
   ]
  },
  {
   "cell_type": "code",
   "execution_count": null,
   "id": "29408516-8b12-46a3-af9d-305082057282",
   "metadata": {},
   "outputs": [],
   "source": [
    "5+2"
   ]
  },
  {
   "cell_type": "code",
   "execution_count": null,
   "id": "cefd1b28-f27f-4487-80ac-7ed74475a580",
   "metadata": {},
   "outputs": [],
   "source": [
    "20 - 3"
   ]
  },
  {
   "cell_type": "code",
   "execution_count": null,
   "id": "c326863a-12a7-4d59-86a9-ff8cad6b47fc",
   "metadata": {},
   "outputs": [],
   "source": [
    "3 * 4"
   ]
  },
  {
   "cell_type": "code",
   "execution_count": null,
   "id": "43e5fc3f-3bac-42e4-9bf3-45bfef30913a",
   "metadata": {},
   "outputs": [],
   "source": [
    "20 / 4"
   ]
  },
  {
   "cell_type": "code",
   "execution_count": null,
   "id": "0e44ff5d-c339-48be-a227-d4f5e36b7156",
   "metadata": {},
   "outputs": [],
   "source": [
    "#modulus operator\n",
    "17 % 4"
   ]
  },
  {
   "cell_type": "code",
   "execution_count": null,
   "id": "e7697770-aa89-476c-87d3-245286d57a29",
   "metadata": {},
   "outputs": [],
   "source": [
    "2 ** 3 #2*2*2"
   ]
  },
  {
   "cell_type": "code",
   "execution_count": null,
   "id": "54b44207-eb3c-4fa3-926f-45b96b175725",
   "metadata": {},
   "outputs": [],
   "source": [
    "3 ** 2"
   ]
  },
  {
   "cell_type": "code",
   "execution_count": null,
   "id": "10e7530e-2974-40e0-8d58-49fdc5a543fc",
   "metadata": {},
   "outputs": [],
   "source": [
    "4/ 3"
   ]
  },
  {
   "cell_type": "code",
   "execution_count": null,
   "id": "ba8384d9-033f-4e38-813b-e1f0d427d5c9",
   "metadata": {},
   "outputs": [],
   "source": [
    "4 // 3 #floor operator"
   ]
  },
  {
   "cell_type": "code",
   "execution_count": null,
   "id": "a3d3facf-a742-47e5-a4e9-c60bfaa5575b",
   "metadata": {},
   "outputs": [],
   "source": [
    "a = 2"
   ]
  },
  {
   "cell_type": "code",
   "execution_count": null,
   "id": "46302d42-a318-457e-968f-d2556d98a1fa",
   "metadata": {},
   "outputs": [],
   "source": [
    "# Comparison operator >> compare two values>> return a boolean value\n",
    "\n",
    "2 == 2"
   ]
  },
  {
   "cell_type": "code",
   "execution_count": null,
   "id": "aa25d952-a0fe-469e-a38f-85f9243eb230",
   "metadata": {},
   "outputs": [],
   "source": [
    "2 != 2"
   ]
  },
  {
   "cell_type": "code",
   "execution_count": null,
   "id": "7c7d936b-0d5b-497b-bb93-1d130e5b0b3a",
   "metadata": {},
   "outputs": [],
   "source": [
    "5 != 2"
   ]
  },
  {
   "cell_type": "code",
   "execution_count": null,
   "id": "bf3712b8-fae3-4125-8238-4d4449b4c6fc",
   "metadata": {},
   "outputs": [],
   "source": [
    "10>2"
   ]
  },
  {
   "cell_type": "code",
   "execution_count": null,
   "id": "99b30ecb-a0b1-4fa3-a673-8f13d9f7a944",
   "metadata": {},
   "outputs": [],
   "source": [
    "10 < 5"
   ]
  },
  {
   "cell_type": "code",
   "execution_count": null,
   "id": "dcbf5667-518b-43c6-b660-50dac79a465d",
   "metadata": {},
   "outputs": [],
   "source": [
    "10 >= 10"
   ]
  },
  {
   "cell_type": "code",
   "execution_count": null,
   "id": "270ec988-b30a-4106-981a-9bb50171c512",
   "metadata": {},
   "outputs": [],
   "source": [
    "10 >= 1"
   ]
  },
  {
   "cell_type": "code",
   "execution_count": null,
   "id": "23abba81-6cfb-4ed5-853b-59afc40dc44d",
   "metadata": {},
   "outputs": [],
   "source": [
    "10<=10"
   ]
  },
  {
   "cell_type": "code",
   "execution_count": null,
   "id": "4353246e-664b-4318-a2e5-20055486cf65",
   "metadata": {},
   "outputs": [],
   "source": [
    "10 <= 12"
   ]
  },
  {
   "cell_type": "code",
   "execution_count": null,
   "id": "f5757305-25b0-46c9-9c76-bfd02fe80104",
   "metadata": {},
   "outputs": [],
   "source": [
    "10 >= 12"
   ]
  },
  {
   "cell_type": "code",
   "execution_count": null,
   "id": "0e592fb1-b667-41bb-8797-15ff2a2d0089",
   "metadata": {},
   "outputs": [],
   "source": [
    "#Logical operator\n",
    "#and \n",
    "True and True"
   ]
  },
  {
   "cell_type": "code",
   "execution_count": null,
   "id": "c94e7f6a-8ec5-463a-9556-026fdda1ac62",
   "metadata": {},
   "outputs": [],
   "source": [
    "True and False"
   ]
  },
  {
   "cell_type": "code",
   "execution_count": null,
   "id": "2574774c-7c21-406c-9d9a-8d40bcf4f0f7",
   "metadata": {},
   "outputs": [],
   "source": [
    "False and True"
   ]
  },
  {
   "cell_type": "code",
   "execution_count": null,
   "id": "aaa855ca-ee7b-4bcf-a516-fea964525fc8",
   "metadata": {},
   "outputs": [],
   "source": [
    "False and False"
   ]
  },
  {
   "cell_type": "code",
   "execution_count": null,
   "id": "18a85662-47ab-451a-ab8b-61c3807bb26e",
   "metadata": {},
   "outputs": [],
   "source": [
    "True or False"
   ]
  },
  {
   "cell_type": "code",
   "execution_count": null,
   "id": "2a04e67b-c153-4d00-9e76-51a49c9fc3b6",
   "metadata": {},
   "outputs": [],
   "source": [
    "False or True"
   ]
  },
  {
   "cell_type": "code",
   "execution_count": null,
   "id": "53fa8769-225c-4e73-9566-1d7bd1f41ca9",
   "metadata": {},
   "outputs": [],
   "source": [
    "#Not operator\n",
    "not True"
   ]
  },
  {
   "cell_type": "code",
   "execution_count": null,
   "id": "e7b9f34e-8420-4e8a-a0fe-bbfa2cde4d54",
   "metadata": {},
   "outputs": [],
   "source": [
    "not False"
   ]
  },
  {
   "cell_type": "code",
   "execution_count": null,
   "id": "ac2abb81-6643-45b1-b20e-1707132a6aa4",
   "metadata": {},
   "outputs": [],
   "source": [
    "#Assignment operator\n",
    "\n",
    "a  =10"
   ]
  },
  {
   "cell_type": "code",
   "execution_count": null,
   "id": "62bd5368-43b7-4be0-a5d7-ad1cc2d10708",
   "metadata": {},
   "outputs": [],
   "source": [
    "a"
   ]
  },
  {
   "cell_type": "code",
   "execution_count": null,
   "id": "6068a196-9853-43fd-855d-42678e9fbda0",
   "metadata": {},
   "outputs": [],
   "source": [
    "a + 5"
   ]
  },
  {
   "cell_type": "code",
   "execution_count": null,
   "id": "947fd8ab-5a87-49d5-bc09-9b9c2aa49743",
   "metadata": {},
   "outputs": [],
   "source": [
    "a"
   ]
  },
  {
   "cell_type": "code",
   "execution_count": null,
   "id": "58f57888-77d7-4b06-a241-164ceb786373",
   "metadata": {},
   "outputs": [],
   "source": [
    "a = a + 10"
   ]
  },
  {
   "cell_type": "code",
   "execution_count": null,
   "id": "4ce02a6d-14c4-4203-8fc6-1515275956b2",
   "metadata": {},
   "outputs": [],
   "source": [
    "a"
   ]
  },
  {
   "cell_type": "code",
   "execution_count": null,
   "id": "39cbc229-218d-4cc1-a43a-9dad4a422050",
   "metadata": {},
   "outputs": [],
   "source": [
    "a += 5"
   ]
  },
  {
   "cell_type": "code",
   "execution_count": null,
   "id": "a0cac88e-a28b-427f-a685-2ba41993cb86",
   "metadata": {},
   "outputs": [],
   "source": [
    "a"
   ]
  },
  {
   "cell_type": "code",
   "execution_count": null,
   "id": "d9f64c7f-f91f-4f86-94b1-73ec67a358cb",
   "metadata": {},
   "outputs": [],
   "source": [
    "a"
   ]
  },
  {
   "cell_type": "code",
   "execution_count": null,
   "id": "a0f5116a-a518-42f1-b2d0-8eaf38c49494",
   "metadata": {},
   "outputs": [],
   "source": [
    "a *= 2"
   ]
  },
  {
   "cell_type": "code",
   "execution_count": null,
   "id": "8ce2eaff-67fe-488b-a008-9b8f372705aa",
   "metadata": {},
   "outputs": [],
   "source": [
    "a"
   ]
  },
  {
   "cell_type": "code",
   "execution_count": null,
   "id": "517992cd-b3c2-46ea-9390-13b517368cb4",
   "metadata": {},
   "outputs": [],
   "source": [
    "a"
   ]
  },
  {
   "cell_type": "code",
   "execution_count": null,
   "id": "2e5e5f31-2f38-4b5c-9781-ae1a6978f8d0",
   "metadata": {},
   "outputs": [],
   "source": [
    "a /= 3"
   ]
  },
  {
   "cell_type": "code",
   "execution_count": null,
   "id": "0e97b81f-8cea-406b-a000-73cb0e4f4ace",
   "metadata": {},
   "outputs": [],
   "source": [
    "a"
   ]
  },
  {
   "cell_type": "code",
   "execution_count": null,
   "id": "01fec1af-0f17-41d8-a848-34959d0b4127",
   "metadata": {},
   "outputs": [],
   "source": [
    "#membership operator\n",
    "\n",
    "a = \"azad\"\n",
    "\n",
    "\"P\" in a"
   ]
  },
  {
   "cell_type": "code",
   "execution_count": null,
   "id": "9814e966-b9af-499a-bb1b-24f452470c91",
   "metadata": {},
   "outputs": [],
   "source": [
    "\"am\" in \"I am Ajay\""
   ]
  },
  {
   "cell_type": "code",
   "execution_count": null,
   "id": "d078ab19-a34a-43c9-b6b0-f7f11ae56c13",
   "metadata": {},
   "outputs": [],
   "source": [
    "\"data\" in \"azad\""
   ]
  },
  {
   "cell_type": "code",
   "execution_count": null,
   "id": "6e867bd9-42a4-45a9-87b3-4b577c09f838",
   "metadata": {},
   "outputs": [],
   "source": [
    "\"data\" not in \"azad\""
   ]
  },
  {
   "cell_type": "code",
   "execution_count": null,
   "id": "bf2cca54-a6c7-4e4c-8258-71b43370b972",
   "metadata": {},
   "outputs": [],
   "source": [
    "a = [\"data\", \"science\", \"ajay\"]"
   ]
  },
  {
   "cell_type": "code",
   "execution_count": null,
   "id": "6172984f-d0bc-48b0-9650-140dde5047e9",
   "metadata": {},
   "outputs": [],
   "source": [
    "\"data\" in a"
   ]
  },
  {
   "cell_type": "code",
   "execution_count": null,
   "id": "c7026d85-0d3c-4768-a0e0-00d8b6d73932",
   "metadata": {},
   "outputs": [],
   "source": [
    "#identity operator >> compare the memory location of two object\n",
    "a = 2"
   ]
  },
  {
   "cell_type": "code",
   "execution_count": null,
   "id": "75bba868-7ba7-4220-82b7-29cae1619bd4",
   "metadata": {},
   "outputs": [],
   "source": [
    "b = 3"
   ]
  },
  {
   "cell_type": "code",
   "execution_count": null,
   "id": "d9dea15f-2f0f-4a21-a026-ec4c5c0618d4",
   "metadata": {},
   "outputs": [],
   "source": [
    "a is b"
   ]
  },
  {
   "cell_type": "code",
   "execution_count": null,
   "id": "a419312a-e7c3-4357-b28d-8271401933eb",
   "metadata": {},
   "outputs": [],
   "source": [
    "b is a"
   ]
  },
  {
   "cell_type": "code",
   "execution_count": null,
   "id": "9c57d981-2b9e-4f8f-88aa-73ab63cba092",
   "metadata": {},
   "outputs": [],
   "source": [
    "a = \"azad Skills\"\n",
    "b=a"
   ]
  },
  {
   "cell_type": "code",
   "execution_count": null,
   "id": "98509834-3ab4-4c05-8691-7532a8dea3cb",
   "metadata": {},
   "outputs": [],
   "source": [
    "b is a "
   ]
  },
  {
   "cell_type": "code",
   "execution_count": null,
   "id": "d3a673ae-4b2b-435b-987f-79d45f5520b4",
   "metadata": {},
   "outputs": [],
   "source": [
    "a is b"
   ]
  },
  {
   "cell_type": "code",
   "execution_count": null,
   "id": "af08a4ca-6f47-4287-9586-1b65820ba0ef",
   "metadata": {},
   "outputs": [],
   "source": [
    "a = \"azad\"\n",
    "b = \"data\"\n",
    "a is b"
   ]
  },
  {
   "cell_type": "code",
   "execution_count": null,
   "id": "0c8c3d31-18a8-4989-b292-012d69823cd6",
   "metadata": {},
   "outputs": [],
   "source": [
    "a is not b"
   ]
  },
  {
   "cell_type": "code",
   "execution_count": null,
   "id": "ea4f41c2-9488-4a59-8ed2-38355c4fd9b9",
   "metadata": {},
   "outputs": [],
   "source": [
    "#bitwise operator>> operations at bit level\n",
    "10 & 10"
   ]
  },
  {
   "cell_type": "code",
   "execution_count": null,
   "id": "d8ed5315-d24d-462d-bfdd-eb27c4467b1c",
   "metadata": {},
   "outputs": [],
   "source": [
    "18 & 3"
   ]
  },
  {
   "cell_type": "code",
   "execution_count": null,
   "id": "32ea30b3-d905-4f52-b2d2-360dfe65d2c2",
   "metadata": {},
   "outputs": [],
   "source": [
    "bin(10)"
   ]
  },
  {
   "cell_type": "code",
   "execution_count": null,
   "id": "9eb7567c-1733-4b04-97d0-6b1be9a0200f",
   "metadata": {},
   "outputs": [],
   "source": [
    "bin(18)"
   ]
  },
  {
   "cell_type": "code",
   "execution_count": null,
   "id": "a742e38e-2ed6-4853-8edf-71b8eb7008ca",
   "metadata": {},
   "outputs": [],
   "source": [
    "bin(3)"
   ]
  },
  {
   "cell_type": "code",
   "execution_count": null,
   "id": "0c7393ba-0e08-463e-b598-64d43a5cc0e8",
   "metadata": {},
   "outputs": [],
   "source": [
    "bin(2)"
   ]
  },
  {
   "cell_type": "code",
   "execution_count": null,
   "id": "c7c75359-d8a6-4fe0-b04e-e5ae02928bb2",
   "metadata": {},
   "outputs": [],
   "source": [
    "3 | 5"
   ]
  },
  {
   "cell_type": "code",
   "execution_count": null,
   "id": "68f5b818-b861-4b67-bc68-cdc91dafdfb0",
   "metadata": {},
   "outputs": [],
   "source": [
    "bin(3)"
   ]
  },
  {
   "cell_type": "code",
   "execution_count": null,
   "id": "7ac2d449-0015-45e9-9ffc-72ca17b77b3a",
   "metadata": {},
   "outputs": [],
   "source": [
    "bin(5)"
   ]
  },
  {
   "cell_type": "code",
   "execution_count": null,
   "id": "c4575515-c4bd-4757-802a-0f94d0752e1b",
   "metadata": {},
   "outputs": [],
   "source": [
    "#negation\n",
    "~3"
   ]
  },
  {
   "cell_type": "code",
   "execution_count": null,
   "id": "79811288-8f22-4a4e-949d-9f8996544b52",
   "metadata": {},
   "outputs": [],
   "source": [
    "~100"
   ]
  },
  {
   "cell_type": "code",
   "execution_count": null,
   "id": "8cfceed5-3ec0-4654-9f8b-71f16d765866",
   "metadata": {},
   "outputs": [],
   "source": [
    "~6"
   ]
  },
  {
   "cell_type": "code",
   "execution_count": null,
   "id": "dcb02eba-de16-4a7a-b0ce-22fa3d968d45",
   "metadata": {},
   "outputs": [],
   "source": [
    "#Bitwise xor >> return 1 when exactly one operand is 1\n",
    "\n",
    "5 ^ 3"
   ]
  },
  {
   "cell_type": "code",
   "execution_count": null,
   "id": "f1290c2d-6223-4d00-aee0-20424894c4ea",
   "metadata": {},
   "outputs": [],
   "source": [
    "bin(5)"
   ]
  },
  {
   "cell_type": "code",
   "execution_count": null,
   "id": "c90fac8c-5ce4-4db8-8412-fa94ad5f4e3e",
   "metadata": {},
   "outputs": [],
   "source": [
    "bin(3)"
   ]
  },
  {
   "cell_type": "code",
   "execution_count": null,
   "id": "052058d2-c71c-4839-9f21-6cb7e8614655",
   "metadata": {},
   "outputs": [],
   "source": [
    "bin(6)"
   ]
  },
  {
   "cell_type": "code",
   "execution_count": null,
   "id": "00b5e555-f752-4c14-b67b-e8032e0c036e",
   "metadata": {},
   "outputs": [],
   "source": [
    "#shift >> left shift and right shift"
   ]
  },
  {
   "cell_type": "code",
   "execution_count": null,
   "id": "0d3058c9-762a-4686-8dfc-b0ef0fd1f851",
   "metadata": {},
   "outputs": [],
   "source": [
    "#left shift put no of zeros on right side\n",
    "\n",
    "35 << 3"
   ]
  },
  {
   "cell_type": "code",
   "execution_count": null,
   "id": "042b0c13-b33c-4488-b6fa-79ed8f6a0b9d",
   "metadata": {},
   "outputs": [],
   "source": [
    "bin(35)"
   ]
  },
  {
   "cell_type": "code",
   "execution_count": null,
   "id": "b714a4ef-71fd-4663-b243-ade9e57a8c46",
   "metadata": {},
   "outputs": [],
   "source": [
    "bin(280)"
   ]
  },
  {
   "cell_type": "code",
   "execution_count": null,
   "id": "3af22b5b-859c-463e-8d46-25abc3ab64d5",
   "metadata": {},
   "outputs": [],
   "source": [
    "5 << 1"
   ]
  },
  {
   "cell_type": "code",
   "execution_count": null,
   "id": "63c7ff61-df26-44a7-8aa6-00f9b9569717",
   "metadata": {},
   "outputs": [],
   "source": [
    "bin(5)"
   ]
  },
  {
   "cell_type": "code",
   "execution_count": null,
   "id": "532c5ad4-e52e-4b3d-a1c2-85170f737dbb",
   "metadata": {},
   "outputs": [],
   "source": [
    "bin(10)"
   ]
  },
  {
   "cell_type": "code",
   "execution_count": null,
   "id": "1d6b7115-93da-4173-b208-c1db57d04180",
   "metadata": {},
   "outputs": [],
   "source": [
    "#Right shift operator >> remove the no of elements in the binary\n",
    "280 >> 3"
   ]
  },
  {
   "cell_type": "code",
   "execution_count": null,
   "id": "be6f0de6-8a19-4bc8-8ff9-8cd6fa21cf55",
   "metadata": {},
   "outputs": [],
   "source": [
    "bin(280)"
   ]
  },
  {
   "cell_type": "code",
   "execution_count": null,
   "id": "93216dbb-2970-425d-89b9-2fb2941231a3",
   "metadata": {},
   "outputs": [],
   "source": [
    "bin(35)"
   ]
  },
  {
   "cell_type": "code",
   "execution_count": null,
   "id": "77a1fec1-f88e-48c5-9af1-0bf6ee30c1cc",
   "metadata": {},
   "outputs": [],
   "source": [
    "10 >> 1"
   ]
  },
  {
   "cell_type": "code",
   "execution_count": null,
   "id": "9f718d35-041e-41f2-8bcd-5f2a95269240",
   "metadata": {},
   "outputs": [],
   "source": [
    "bin(10)"
   ]
  },
  {
   "cell_type": "code",
   "execution_count": null,
   "id": "63195d46-9a92-4a06-83ed-56bd7cd72138",
   "metadata": {},
   "outputs": [],
   "source": [
    "bin(5)"
   ]
  },
  {
   "cell_type": "code",
   "execution_count": null,
   "id": "6d83f9ca-c3ef-489c-a5ce-567a85ae5604",
   "metadata": {},
   "outputs": [],
   "source": [
    "## order of precedence\n",
    "#execution will start from left\n",
    "2+3-1"
   ]
  },
  {
   "cell_type": "code",
   "execution_count": null,
   "id": "948bdc29-42ff-4c01-9d96-f13da1cec5de",
   "metadata": {},
   "outputs": [],
   "source": [
    "#always parenthesis\n",
    "\n",
    "(5+3) - 4"
   ]
  },
  {
   "cell_type": "code",
   "execution_count": null,
   "id": "2119cc8d-8c38-4ad0-a1b7-73f8625c9c5b",
   "metadata": {},
   "outputs": [],
   "source": [
    "4 - (5+3)"
   ]
  },
  {
   "cell_type": "code",
   "execution_count": null,
   "id": "08f58d4e-29e1-47ff-9ee6-83b12dd1d01a",
   "metadata": {},
   "outputs": [],
   "source": [
    "(10+5) + (8/2)"
   ]
  },
  {
   "cell_type": "code",
   "execution_count": null,
   "id": "782f448a-0fb5-4ad9-acd6-e0855cc375c6",
   "metadata": {},
   "outputs": [],
   "source": []
  }
 ],
 "metadata": {
  "kernelspec": {
   "display_name": "Python 3 (ipykernel)",
   "language": "python",
   "name": "python3"
  },
  "language_info": {
   "codemirror_mode": {
    "name": "ipython",
    "version": 3
   },
   "file_extension": ".py",
   "mimetype": "text/x-python",
   "name": "python",
   "nbconvert_exporter": "python",
   "pygments_lexer": "ipython3",
   "version": "3.10.8"
  }
 },
 "nbformat": 4,
 "nbformat_minor": 5
}
