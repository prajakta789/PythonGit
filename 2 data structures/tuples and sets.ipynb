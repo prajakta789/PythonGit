{
 "cells": [
  {
   "cell_type": "code",
   "execution_count": null,
   "id": "9b8ebf95-08c5-4a2b-8d63-5b6607c88870",
   "metadata": {},
   "outputs": [],
   "source": [
    "t = ()"
   ]
  },
  {
   "cell_type": "code",
   "execution_count": null,
   "id": "674961ff-599d-496b-9306-bcafec1298c3",
   "metadata": {},
   "outputs": [],
   "source": [
    "type(t)"
   ]
  },
  {
   "cell_type": "code",
   "execution_count": null,
   "id": "cd8392cd-2168-4784-bf8e-a58f04200fa7",
   "metadata": {},
   "outputs": [],
   "source": [
    "#Tuples are ordered collection of elements, heterogenous\n",
    "#Tuples are immutable"
   ]
  },
  {
   "cell_type": "code",
   "execution_count": null,
   "id": "27462e45-3e80-4d34-adc0-31bee851379d",
   "metadata": {},
   "outputs": [],
   "source": [
    "tuple1 = (\"azad\", 7+3j, True, 1, 2, 1, 1, 2,2.2)"
   ]
  },
  {
   "cell_type": "code",
   "execution_count": null,
   "id": "8fa28d7e-d852-4832-85e0-c47b5397c322",
   "metadata": {},
   "outputs": [],
   "source": [
    "type(tuple1)"
   ]
  },
  {
   "cell_type": "code",
   "execution_count": null,
   "id": "f637e220-36b3-4091-b462-4afc4f49ff6c",
   "metadata": {},
   "outputs": [],
   "source": [
    "tuple1[0]"
   ]
  },
  {
   "cell_type": "code",
   "execution_count": null,
   "id": "bc2e8e5b-186d-43a5-b537-2102e2a99de6",
   "metadata": {},
   "outputs": [],
   "source": [
    "#Tuples are immutable\n",
    "tuple1[0] = \"data\" "
   ]
  },
  {
   "cell_type": "code",
   "execution_count": null,
   "id": "f6172012-855d-4aba-83eb-49b63ae98bf7",
   "metadata": {},
   "outputs": [],
   "source": [
    "emp_id = (1, 2, 3, 4, 5)"
   ]
  },
  {
   "cell_type": "code",
   "execution_count": null,
   "id": "143a3f5e-92a2-499c-b629-ceaab6030be2",
   "metadata": {},
   "outputs": [],
   "source": [
    "emp_id[0] = 100 #immutable"
   ]
  },
  {
   "cell_type": "code",
   "execution_count": null,
   "id": "b9fc6fea-a23c-432c-b6f6-81409f09320d",
   "metadata": {},
   "outputs": [],
   "source": [
    "tuple1"
   ]
  },
  {
   "cell_type": "code",
   "execution_count": null,
   "id": "02b6816a-b23d-4b97-803f-5819c391b092",
   "metadata": {},
   "outputs": [],
   "source": [
    "tuple1.count(1)"
   ]
  },
  {
   "cell_type": "code",
   "execution_count": null,
   "id": "1224106d-d2a6-44bc-89bc-e7fef5080ac9",
   "metadata": {},
   "outputs": [],
   "source": [
    "tuple1.count(2)"
   ]
  },
  {
   "cell_type": "code",
   "execution_count": null,
   "id": "17fef26b-65b0-46cf-80ac-e66b02731775",
   "metadata": {},
   "outputs": [],
   "source": [
    "tuple1.index(2)"
   ]
  },
  {
   "cell_type": "code",
   "execution_count": null,
   "id": "097ca33f-1f2c-4ac5-b545-3b5604b798c4",
   "metadata": {},
   "outputs": [],
   "source": [
    "tuple1.index('azad')"
   ]
  },
  {
   "cell_type": "code",
   "execution_count": null,
   "id": "1638076f-037b-4729-bc09-e6f1e74502ae",
   "metadata": {},
   "outputs": [],
   "source": [
    "print(tuple1 * 2)"
   ]
  },
  {
   "cell_type": "code",
   "execution_count": null,
   "id": "366a4e04-9c5f-4dcf-a3da-9849036c41fb",
   "metadata": {},
   "outputs": [],
   "source": [
    "tuple1[0:4]"
   ]
  },
  {
   "cell_type": "code",
   "execution_count": null,
   "id": "dfd26128-5993-4764-b6b2-4632f639a00c",
   "metadata": {},
   "outputs": [],
   "source": [
    "tuple1[::-1]"
   ]
  },
  {
   "cell_type": "code",
   "execution_count": null,
   "id": "5a0053e5-7341-407f-9e55-7a0315cb3127",
   "metadata": {},
   "outputs": [],
   "source": [
    "tuple1[-1]"
   ]
  },
  {
   "cell_type": "code",
   "execution_count": null,
   "id": "bad42522-57c4-4a40-aadc-7485cda5e23b",
   "metadata": {},
   "outputs": [],
   "source": [
    "for i in tuple1:\n",
    "    print(i, type(i))"
   ]
  },
  {
   "cell_type": "code",
   "execution_count": null,
   "id": "0e3560d2-b772-42f3-91cf-7ec6344eb896",
   "metadata": {},
   "outputs": [],
   "source": [
    "t1 = (1, 2, 100, 4, 5)"
   ]
  },
  {
   "cell_type": "code",
   "execution_count": null,
   "id": "ddf093e2-7187-4935-92f5-a8351576d986",
   "metadata": {},
   "outputs": [],
   "source": [
    "max(t1)"
   ]
  },
  {
   "cell_type": "code",
   "execution_count": null,
   "id": "4d64ecba-d16c-4d19-9371-4d961c432ba3",
   "metadata": {},
   "outputs": [],
   "source": [
    "min(t1)"
   ]
  },
  {
   "cell_type": "code",
   "execution_count": null,
   "id": "433a45bf-11d7-4d0d-b7d5-eac49c51a1fc",
   "metadata": {},
   "outputs": [],
   "source": [
    "t2 = (2, 3, 500)"
   ]
  },
  {
   "cell_type": "code",
   "execution_count": null,
   "id": "00408d68-56c9-4803-8743-005554a94c4f",
   "metadata": {},
   "outputs": [],
   "source": [
    "t3 = (t1, t2)"
   ]
  },
  {
   "cell_type": "code",
   "execution_count": null,
   "id": "8b4dadc5-7feb-4199-86a5-05b870a8033e",
   "metadata": {},
   "outputs": [],
   "source": [
    "t3"
   ]
  },
  {
   "cell_type": "code",
   "execution_count": null,
   "id": "cfb8de6b-064b-4886-a929-4065dd09073b",
   "metadata": {},
   "outputs": [],
   "source": [
    "del t3"
   ]
  },
  {
   "cell_type": "code",
   "execution_count": null,
   "id": "dbd1d9ae-0a3d-4be9-9e8c-d7d8379e344c",
   "metadata": {},
   "outputs": [],
   "source": [
    "t3"
   ]
  },
  {
   "cell_type": "code",
   "execution_count": null,
   "id": "ce28413b-146d-4609-8ac2-e1973de322ae",
   "metadata": {},
   "outputs": [],
   "source": [
    "len(t1)"
   ]
  },
  {
   "cell_type": "code",
   "execution_count": null,
   "id": "59c4d6dd-e6af-4076-afc9-4f4a0f1b5420",
   "metadata": {},
   "outputs": [],
   "source": [
    "t1"
   ]
  },
  {
   "cell_type": "code",
   "execution_count": null,
   "id": "5e256921-a3f6-4b52-b094-99014d93137a",
   "metadata": {},
   "outputs": [],
   "source": [
    "100 in t1"
   ]
  },
  {
   "cell_type": "code",
   "execution_count": null,
   "id": "1e48a5c1-e5b4-4837-9eff-eef8a0eaba13",
   "metadata": {},
   "outputs": [],
   "source": [
    "tuple1"
   ]
  },
  {
   "cell_type": "code",
   "execution_count": null,
   "id": "4d34cb6e-88f2-4e09-b3a1-507290eeb3e4",
   "metadata": {},
   "outputs": [],
   "source": [
    "\"azad\" in tuple1"
   ]
  },
  {
   "cell_type": "code",
   "execution_count": null,
   "id": "aae2a7a4-9139-41a8-a88c-c2ab9dc417e3",
   "metadata": {},
   "outputs": [],
   "source": [
    "\"azad\" not in tuple1"
   ]
  },
  {
   "cell_type": "code",
   "execution_count": null,
   "id": "fa329252-251a-424c-a53d-fd8c9ac4e5c7",
   "metadata": {},
   "outputs": [],
   "source": [
    "t1"
   ]
  },
  {
   "cell_type": "code",
   "execution_count": null,
   "id": "955f716b-e225-4f80-a056-98d7327e18ca",
   "metadata": {},
   "outputs": [],
   "source": [
    "t2"
   ]
  },
  {
   "cell_type": "code",
   "execution_count": null,
   "id": "36e1bcba-40db-4405-8590-0b2f582b33ab",
   "metadata": {},
   "outputs": [],
   "source": [
    "t1+t2"
   ]
  },
  {
   "cell_type": "code",
   "execution_count": null,
   "id": "8e069450-2d95-4ee2-b94c-33e9a0cb089a",
   "metadata": {},
   "outputs": [],
   "source": [
    "#Set>> sets are collection of unique and unordered elements\n",
    "#dont allow duplicate elements>> not mauintain any order and it will not be indexed"
   ]
  },
  {
   "cell_type": "code",
   "execution_count": null,
   "id": "73357149-0b7b-444a-956c-009eb9be0960",
   "metadata": {},
   "outputs": [],
   "source": [
    "s = {}\n"
   ]
  },
  {
   "cell_type": "code",
   "execution_count": null,
   "id": "a51c5de9-df61-4915-a428-34af57e56ff7",
   "metadata": {},
   "outputs": [],
   "source": [
    "s"
   ]
  },
  {
   "cell_type": "code",
   "execution_count": null,
   "id": "31499526-e128-42b4-b9b8-06ffc683ce96",
   "metadata": {},
   "outputs": [],
   "source": [
    "type(s)"
   ]
  },
  {
   "cell_type": "code",
   "execution_count": null,
   "id": "d03abdd9-0134-43bb-a998-74af457ec1e4",
   "metadata": {},
   "outputs": [],
   "source": [
    "s = {2, 3, 4}"
   ]
  },
  {
   "cell_type": "code",
   "execution_count": null,
   "id": "97764b0d-ba6d-447d-8770-dd2b28a28a65",
   "metadata": {},
   "outputs": [],
   "source": [
    "type(s)"
   ]
  },
  {
   "cell_type": "code",
   "execution_count": null,
   "id": "92a33e23-235b-4016-950d-49a487ce09c4",
   "metadata": {},
   "outputs": [],
   "source": [
    "s = {1, 1, 1, 2, 1, 2, 2, 1, \"ajay\", \"ajay\", \"Ajay\"}"
   ]
  },
  {
   "cell_type": "code",
   "execution_count": null,
   "id": "f90d6baf-6c58-4275-a992-fddccd06e9d1",
   "metadata": {},
   "outputs": [],
   "source": [
    "s"
   ]
  },
  {
   "cell_type": "code",
   "execution_count": null,
   "id": "54d1c406-8acd-4eb5-9813-dcd957739454",
   "metadata": {},
   "outputs": [],
   "source": [
    "list1 = [2, 3, 4, 4, 4, 5, 5]\n",
    "s = set(list1)"
   ]
  },
  {
   "cell_type": "code",
   "execution_count": null,
   "id": "49c21a31-7c57-4c5e-8ddf-4ff269036c0f",
   "metadata": {},
   "outputs": [],
   "source": [
    "list(s)"
   ]
  },
  {
   "cell_type": "code",
   "execution_count": null,
   "id": "a5d0bbf1-3b4e-49f3-972e-5806c7a811e9",
   "metadata": {},
   "outputs": [],
   "source": [
    "s[0]"
   ]
  },
  {
   "cell_type": "code",
   "execution_count": null,
   "id": "5044ec40-8b48-47cf-99a6-4debef851c70",
   "metadata": {},
   "outputs": [],
   "source": [
    "{1,1, 2, 2, 2, 3, 3, 100}"
   ]
  },
  {
   "cell_type": "code",
   "execution_count": null,
   "id": "ba073070-2d89-4d9a-8793-04ebce196e06",
   "metadata": {},
   "outputs": [],
   "source": [
    "s[1]"
   ]
  },
  {
   "cell_type": "code",
   "execution_count": null,
   "id": "c3b24ed0-4780-4d87-a31d-e0f558bd2e22",
   "metadata": {},
   "outputs": [],
   "source": [
    "{1, 2, 3, 2, 2, 3, 3, [1, 2, 3]}"
   ]
  },
  {
   "cell_type": "code",
   "execution_count": null,
   "id": "afaec1a1-c328-45c9-bb73-7f95511782a9",
   "metadata": {},
   "outputs": [],
   "source": [
    "s = {1, 2, 3, 2, 2, 3, 3, (1, 2, 3)}"
   ]
  },
  {
   "cell_type": "code",
   "execution_count": null,
   "id": "c5fb9da0-6b94-408f-96d5-3fde7d1e226c",
   "metadata": {},
   "outputs": [],
   "source": [
    "s[0]"
   ]
  },
  {
   "cell_type": "code",
   "execution_count": null,
   "id": "62b2e1c3-d19b-4d7a-8b29-037d8e888752",
   "metadata": {},
   "outputs": [],
   "source": [
    "s[::-1]"
   ]
  },
  {
   "cell_type": "code",
   "execution_count": null,
   "id": "03791ba5-9617-4cba-9b47-e25b3b07649b",
   "metadata": {},
   "outputs": [],
   "source": [
    "for i in s:\n",
    "    print(i)"
   ]
  },
  {
   "cell_type": "code",
   "execution_count": null,
   "id": "1953ad0b-5487-45ea-ac1f-422795d84cde",
   "metadata": {},
   "outputs": [],
   "source": [
    "s"
   ]
  },
  {
   "cell_type": "code",
   "execution_count": null,
   "id": "386f8475-0dc8-46d9-86c4-1448de963b8a",
   "metadata": {},
   "outputs": [],
   "source": [
    "len(s)"
   ]
  },
  {
   "cell_type": "code",
   "execution_count": null,
   "id": "13ba0383-79a2-4270-87d6-6291ed600687",
   "metadata": {},
   "outputs": [],
   "source": [
    "s.add(100)"
   ]
  },
  {
   "cell_type": "code",
   "execution_count": null,
   "id": "fdf7510e-97e2-469f-8c66-f0f25d4a2892",
   "metadata": {},
   "outputs": [],
   "source": [
    "s"
   ]
  },
  {
   "cell_type": "code",
   "execution_count": null,
   "id": "eaca4230-1878-4a29-961f-505bf444bfa2",
   "metadata": {},
   "outputs": [],
   "source": [
    "s.pop()"
   ]
  },
  {
   "cell_type": "code",
   "execution_count": null,
   "id": "57cdc0a4-cf68-45fb-8f49-3a58de069871",
   "metadata": {},
   "outputs": [],
   "source": [
    "s"
   ]
  },
  {
   "cell_type": "code",
   "execution_count": null,
   "id": "62e3ec28-7575-4525-98a3-133265098c47",
   "metadata": {},
   "outputs": [],
   "source": [
    "s.remove(2)"
   ]
  },
  {
   "cell_type": "code",
   "execution_count": null,
   "id": "7b0bc396-7eab-4a9b-a93f-35871f688f54",
   "metadata": {},
   "outputs": [],
   "source": [
    "s"
   ]
  },
  {
   "cell_type": "code",
   "execution_count": null,
   "id": "0bcf0d06-bd57-4e41-bdb5-9104c8725170",
   "metadata": {},
   "outputs": [],
   "source": [
    "s.update(\"2\") #update will not work with integers"
   ]
  },
  {
   "cell_type": "code",
   "execution_count": null,
   "id": "6cbaf311-c165-4655-833c-b79c36d7b7ac",
   "metadata": {},
   "outputs": [],
   "source": [
    "s"
   ]
  },
  {
   "cell_type": "code",
   "execution_count": null,
   "id": "095f46da-22cf-40fe-bbc0-55ef9c30573c",
   "metadata": {},
   "outputs": [],
   "source": [
    "del s"
   ]
  },
  {
   "cell_type": "code",
   "execution_count": null,
   "id": "b5d132c6-ff79-4512-9d7f-153c34ca0599",
   "metadata": {},
   "outputs": [],
   "source": [
    "s = {(1, 2, 3), 100, '2', 3}"
   ]
  },
  {
   "cell_type": "code",
   "execution_count": null,
   "id": "be275eb6-6688-4fd7-82a8-953eaf64027a",
   "metadata": {},
   "outputs": [],
   "source": [
    "s.clear()"
   ]
  },
  {
   "cell_type": "code",
   "execution_count": null,
   "id": "d2790abd-b317-44e4-8558-9f661714fb39",
   "metadata": {},
   "outputs": [],
   "source": [
    "s"
   ]
  },
  {
   "cell_type": "code",
   "execution_count": null,
   "id": "c4744205-f012-4a54-837e-736f3b3f33ee",
   "metadata": {},
   "outputs": [],
   "source": [
    "s"
   ]
  },
  {
   "cell_type": "code",
   "execution_count": null,
   "id": "0b632878-de16-4dec-8309-2c6c8ed0d3e3",
   "metadata": {},
   "outputs": [],
   "source": [
    "s = {(1, 2, 3), 100, '2', 3}\n"
   ]
  },
  {
   "cell_type": "code",
   "execution_count": null,
   "id": "af4dcbe3-395f-49c8-aec4-7c3119801fa7",
   "metadata": {},
   "outputs": [],
   "source": [
    "s"
   ]
  },
  {
   "cell_type": "code",
   "execution_count": null,
   "id": "bcf5b691-8964-4bca-bba2-1d53c7245d79",
   "metadata": {},
   "outputs": [],
   "source": [
    "s.discard('2')"
   ]
  },
  {
   "cell_type": "code",
   "execution_count": null,
   "id": "b6de7db4-c305-45c7-910c-4d44ba20a83a",
   "metadata": {},
   "outputs": [],
   "source": [
    "s"
   ]
  },
  {
   "cell_type": "code",
   "execution_count": null,
   "id": "075045cf-479c-4a85-b470-11a63bde6f9e",
   "metadata": {},
   "outputs": [],
   "source": [
    "s.remove(5) #remove will throw an error if the given element is not present in set"
   ]
  },
  {
   "cell_type": "code",
   "execution_count": null,
   "id": "d9e2abec-8a4a-4340-9bfb-5324b46bb894",
   "metadata": {},
   "outputs": [],
   "source": [
    "s"
   ]
  },
  {
   "cell_type": "code",
   "execution_count": null,
   "id": "183dac71-1e7d-4a62-8be4-74bd3c4521ca",
   "metadata": {},
   "outputs": [],
   "source": [
    "s.discard(5) #error will not be thrown if element is not present"
   ]
  },
  {
   "cell_type": "code",
   "execution_count": null,
   "id": "3ee1dd52-00bf-485f-8c4e-1ba57b1b71af",
   "metadata": {},
   "outputs": [],
   "source": [
    "s"
   ]
  },
  {
   "cell_type": "code",
   "execution_count": null,
   "id": "f3b40685-7c3f-4f81-88e4-06598da8bf4d",
   "metadata": {},
   "outputs": [],
   "source": [
    "#Set operations\n",
    "#Union: combines elements from two sets excluding duplicates\n",
    "#Intersection: only common elements btw sets\n",
    "#difference: return the elements that is present in first set and not in second\n",
    "#symmetric difference: returns elements that are present in either of sets but not in both"
   ]
  },
  {
   "cell_type": "code",
   "execution_count": null,
   "id": "03294989-4210-4d94-93b6-d2e884705299",
   "metadata": {},
   "outputs": [],
   "source": [
    "s1 = {\"hiking\", \"reading\", \"coding\"}\n",
    "s2 = {\"coding\", \"photography\", \"travelling\"}"
   ]
  },
  {
   "cell_type": "code",
   "execution_count": null,
   "id": "c72be62a-33c6-4c27-9538-ddd2b77a2b26",
   "metadata": {},
   "outputs": [],
   "source": [
    "s1"
   ]
  },
  {
   "cell_type": "code",
   "execution_count": null,
   "id": "5d37a321-c9ea-4167-b004-9d17bfc2ae5c",
   "metadata": {},
   "outputs": [],
   "source": [
    "s2"
   ]
  },
  {
   "cell_type": "code",
   "execution_count": null,
   "id": "4557a828-9da6-4d36-bea5-e3462c38b1c0",
   "metadata": {},
   "outputs": [],
   "source": [
    "#intersection >> & \n",
    "\n",
    "s1 & s2"
   ]
  },
  {
   "cell_type": "code",
   "execution_count": null,
   "id": "3c35a3f7-3d0b-44a3-98d4-20352e98904a",
   "metadata": {},
   "outputs": [],
   "source": [
    "#union\n",
    "s1 | s2"
   ]
  },
  {
   "cell_type": "code",
   "execution_count": null,
   "id": "a4db9074-e9f0-4a46-8ace-a07e482d79cf",
   "metadata": {},
   "outputs": [],
   "source": [
    "#difference\n",
    "s1 - s2"
   ]
  },
  {
   "cell_type": "code",
   "execution_count": null,
   "id": "bdcda3aa-77e7-4e41-b7ce-e94f61349744",
   "metadata": {},
   "outputs": [],
   "source": [
    "#symmetric difference\n",
    "s1 ^ s2"
   ]
  },
  {
   "cell_type": "code",
   "execution_count": null,
   "id": "ea75cee6-11fc-455b-8788-d9a35af312df",
   "metadata": {},
   "outputs": [],
   "source": [
    "#frozen sets"
   ]
  },
  {
   "cell_type": "code",
   "execution_count": null,
   "id": "03859537-d447-4b3a-ab1c-991af19797fa",
   "metadata": {},
   "outputs": [],
   "source": [
    "s"
   ]
  },
  {
   "cell_type": "code",
   "execution_count": null,
   "id": "76b61c93-3f30-495d-9ab8-c6e9667fc57f",
   "metadata": {},
   "outputs": [],
   "source": [
    "s.add(123)"
   ]
  },
  {
   "cell_type": "code",
   "execution_count": null,
   "id": "45dc82e8-8cb2-4792-984b-656ec7e549c5",
   "metadata": {},
   "outputs": [],
   "source": [
    "s"
   ]
  },
  {
   "cell_type": "code",
   "execution_count": null,
   "id": "0be4ac09-1e25-4bff-8239-67c323c4fc29",
   "metadata": {},
   "outputs": [],
   "source": [
    "#frozen set >> immutable version of set., can not be changed added or removed\n",
    "\n",
    "my_frozenset = frozenset([1, 2, 3, 4, 4, 5, 5])"
   ]
  },
  {
   "cell_type": "code",
   "execution_count": null,
   "id": "9c792055-ad64-4f10-81c3-6df547ae3fb8",
   "metadata": {},
   "outputs": [],
   "source": [
    "type(my_frozenset)"
   ]
  },
  {
   "cell_type": "code",
   "execution_count": null,
   "id": "949f24ee-56d8-4a06-b7f2-8d1b29b5c0f0",
   "metadata": {},
   "outputs": [],
   "source": [
    "my_frozenset.add(5, 6, 7)"
   ]
  },
  {
   "cell_type": "code",
   "execution_count": null,
   "id": "f21e0e7c-83fc-40c2-bfc8-6f1bc305e1ed",
   "metadata": {},
   "outputs": [],
   "source": [
    "my_frozenset.pop()"
   ]
  },
  {
   "cell_type": "code",
   "execution_count": null,
   "id": "6ba02a71-074c-4300-b96a-abe3867572b7",
   "metadata": {},
   "outputs": [],
   "source": [
    "fo"
   ]
  }
 ],
 "metadata": {
  "kernelspec": {
   "display_name": "Python 3 (ipykernel)",
   "language": "python",
   "name": "python3"
  },
  "language_info": {
   "codemirror_mode": {
    "name": "ipython",
    "version": 3
   },
   "file_extension": ".py",
   "mimetype": "text/x-python",
   "name": "python",
   "nbconvert_exporter": "python",
   "pygments_lexer": "ipython3",
   "version": "3.10.8"
  }
 },
 "nbformat": 4,
 "nbformat_minor": 5
}
