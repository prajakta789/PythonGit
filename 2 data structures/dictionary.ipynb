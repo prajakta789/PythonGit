{
 "cells": [
  {
   "cell_type": "code",
   "execution_count": null,
   "id": "f74095d0-3547-41f1-9000-21c4545564cb",
   "metadata": {},
   "outputs": [],
   "source": [
    "#dictionary is a data structure that stores data as key value pair\n",
    "#Unordered, Keys are unique and immutable"
   ]
  },
  {
   "cell_type": "code",
   "execution_count": null,
   "id": "7af69832-624b-4cf8-899d-c6c8ddeaff6b",
   "metadata": {},
   "outputs": [],
   "source": [
    "d = {}\n",
    "type(d)"
   ]
  },
  {
   "cell_type": "code",
   "execution_count": null,
   "id": "037ca033-ce21-4e48-b59e-6a694d75687f",
   "metadata": {},
   "outputs": [],
   "source": [
    "d = {\"name\": \"Ajay\", \"email\": \"aj@gmail.com\", \"contact\" : 1234}"
   ]
  },
  {
   "cell_type": "code",
   "execution_count": null,
   "id": "8e060895-c161-4a2f-8d45-148408c0f9dc",
   "metadata": {},
   "outputs": [],
   "source": [
    "type(d)"
   ]
  },
  {
   "cell_type": "code",
   "execution_count": null,
   "id": "335ff53a-906d-42fc-8708-2676d3158bb9",
   "metadata": {},
   "outputs": [],
   "source": [
    "d"
   ]
  },
  {
   "cell_type": "code",
   "execution_count": null,
   "id": "f1d7551d-624b-46b2-9f45-53c3129d066b",
   "metadata": {},
   "outputs": [],
   "source": [
    "l = [100, 200, 300]"
   ]
  },
  {
   "cell_type": "code",
   "execution_count": null,
   "id": "a95c0013-b290-49a4-b65e-e31cc43c50d6",
   "metadata": {},
   "outputs": [],
   "source": [
    "d['name']"
   ]
  },
  {
   "cell_type": "code",
   "execution_count": null,
   "id": "e97c1239-098a-43ec-bbbf-d80885fdec28",
   "metadata": {},
   "outputs": [],
   "source": [
    "d['email']"
   ]
  },
  {
   "cell_type": "code",
   "execution_count": null,
   "id": "dffabf48-e54e-4425-8704-78db97d2a98c",
   "metadata": {},
   "outputs": [],
   "source": [
    "d['name'] = \"bijay\""
   ]
  },
  {
   "cell_type": "code",
   "execution_count": null,
   "id": "014ed0f1-3bdd-4322-8f0a-9d9bbc41a34e",
   "metadata": {},
   "outputs": [],
   "source": [
    "d"
   ]
  },
  {
   "cell_type": "code",
   "execution_count": null,
   "id": "89a11442-ebc2-43d9-b31e-f2c679c7e6a8",
   "metadata": {},
   "outputs": [],
   "source": [
    "d = {\"name\": \"Ajay\", \"email\": \"aj@gmail.com\", \"contact\" : 1234, \"name\": \"ajay\"}"
   ]
  },
  {
   "cell_type": "code",
   "execution_count": null,
   "id": "7ef668d5-5bae-47da-a816-d60c10fe71b6",
   "metadata": {},
   "outputs": [],
   "source": [
    "d"
   ]
  },
  {
   "cell_type": "code",
   "execution_count": null,
   "id": "3ec98cb3-82d4-4f13-a930-1b559c72e3e0",
   "metadata": {},
   "outputs": [],
   "source": [
    "d = {1:\"abc\"}"
   ]
  },
  {
   "cell_type": "code",
   "execution_count": null,
   "id": "8708d460-34cb-4b43-98d9-99190ffd612d",
   "metadata": {},
   "outputs": [],
   "source": [
    "d"
   ]
  },
  {
   "cell_type": "code",
   "execution_count": null,
   "id": "0d2a00f3-b0c7-4ec2-ad32-f941434f3c86",
   "metadata": {},
   "outputs": [],
   "source": [
    "d = {101:\"abc\"}"
   ]
  },
  {
   "cell_type": "code",
   "execution_count": null,
   "id": "2b77d708-96e5-474d-9285-73dd3f780f89",
   "metadata": {},
   "outputs": [],
   "source": [
    "d"
   ]
  },
  {
   "cell_type": "code",
   "execution_count": null,
   "id": "7da0356c-cc31-4451-a66c-9bfb89cb96a9",
   "metadata": {},
   "outputs": [],
   "source": [
    "d = {1.2:\"abc\"}"
   ]
  },
  {
   "cell_type": "code",
   "execution_count": null,
   "id": "9f70a46c-b1e3-4e77-841e-0408fcbc1478",
   "metadata": {},
   "outputs": [],
   "source": [
    "d"
   ]
  },
  {
   "cell_type": "code",
   "execution_count": null,
   "id": "5d75ffd8-670e-47dc-abe7-8fb51c4a5691",
   "metadata": {},
   "outputs": [],
   "source": [
    "d = {True:\"abc\"}"
   ]
  },
  {
   "cell_type": "code",
   "execution_count": null,
   "id": "6923e7bb-b2ae-4402-b308-64e3a220f574",
   "metadata": {},
   "outputs": [],
   "source": [
    "d"
   ]
  },
  {
   "cell_type": "code",
   "execution_count": null,
   "id": "d60c0dd5-e4d0-49c0-a0ab-fb1214503d7d",
   "metadata": {},
   "outputs": [],
   "source": [
    "d = {#:\"abc\"}"
   ]
  },
  {
   "cell_type": "code",
   "execution_count": null,
   "id": "52211695-b404-4f9a-8149-007dbd527b25",
   "metadata": {},
   "outputs": [],
   "source": [
    "d = {@:\"abc\"}"
   ]
  },
  {
   "cell_type": "code",
   "execution_count": null,
   "id": "157ad1e0-3a94-48c6-88ee-acfbab975b0b",
   "metadata": {},
   "outputs": [],
   "source": [
    "d = {[1, 2,3]:\"abc\"}"
   ]
  },
  {
   "cell_type": "code",
   "execution_count": null,
   "id": "c922a92b-7551-4a8c-91ea-f0a9c7233a2f",
   "metadata": {},
   "outputs": [],
   "source": [
    "d = {(1, 2,3):\"abc\"}"
   ]
  },
  {
   "cell_type": "code",
   "execution_count": null,
   "id": "8c13b369-3a6c-4f20-8710-c809fa840148",
   "metadata": {},
   "outputs": [],
   "source": [
    "d"
   ]
  },
  {
   "cell_type": "code",
   "execution_count": null,
   "id": "433820bf-e36b-4f44-9487-71072a9c4518",
   "metadata": {},
   "outputs": [],
   "source": [
    "d = {{1, 2,3}:\"abc\"}"
   ]
  },
  {
   "cell_type": "code",
   "execution_count": null,
   "id": "b37321e4-6f8d-4948-ba42-e8d692665e3c",
   "metadata": {},
   "outputs": [],
   "source": [
    "d = {{\"key\":123}:\"abc\"}"
   ]
  },
  {
   "cell_type": "code",
   "execution_count": null,
   "id": "afdbb510-375b-4eb1-a4dc-fb700663db91",
   "metadata": {},
   "outputs": [],
   "source": [
    "d = {\"name\": \"Ajay\", \"email\": \"aj@gmail.com\", \"contact\" : 1234, \"name\": \"ajay\"}"
   ]
  },
  {
   "cell_type": "code",
   "execution_count": null,
   "id": "2a12ce63-ae01-4ac3-aa41-29a9b2289112",
   "metadata": {},
   "outputs": [],
   "source": [
    "d"
   ]
  },
  {
   "cell_type": "code",
   "execution_count": null,
   "id": "ccc9928a-41e5-4142-bb7f-c441a5791094",
   "metadata": {},
   "outputs": [],
   "source": [
    "d[\"name\"] = \"data science\""
   ]
  },
  {
   "cell_type": "code",
   "execution_count": null,
   "id": "2e00c413-ccc0-420f-8f2a-3c27a6fc6bb5",
   "metadata": {},
   "outputs": [],
   "source": [
    "d"
   ]
  },
  {
   "cell_type": "code",
   "execution_count": null,
   "id": "63b0bae5-dde2-4b25-a4ce-4fd27d3d6550",
   "metadata": {},
   "outputs": [],
   "source": [
    "d = {\"name\": [\"Ajay\", \"Bijay\", \"Sanjay\"], \"course\": (\"ds\", \"ml\")}"
   ]
  },
  {
   "cell_type": "code",
   "execution_count": null,
   "id": "1ef45364-65c3-4495-85db-9253e49f2ce9",
   "metadata": {},
   "outputs": [],
   "source": [
    "d"
   ]
  },
  {
   "cell_type": "code",
   "execution_count": null,
   "id": "a24291d3-1517-4aaf-aa0b-5a88f262364f",
   "metadata": {},
   "outputs": [],
   "source": [
    "d['name'][1]"
   ]
  },
  {
   "cell_type": "code",
   "execution_count": null,
   "id": "45ee1c58-8454-470a-9176-eaa35f1da1db",
   "metadata": {},
   "outputs": [],
   "source": [
    "d[\"date_of_start\"] = \"15th March\""
   ]
  },
  {
   "cell_type": "code",
   "execution_count": null,
   "id": "cf89f14a-59c8-46fc-a18f-9555ef445a58",
   "metadata": {},
   "outputs": [],
   "source": [
    "d"
   ]
  },
  {
   "cell_type": "code",
   "execution_count": null,
   "id": "f338804f-12c2-4cd7-b88d-b74f45668bc0",
   "metadata": {},
   "outputs": [],
   "source": [
    "d['name'] = \"Rakesh\""
   ]
  },
  {
   "cell_type": "code",
   "execution_count": null,
   "id": "7ffdf4a1-d53e-493a-a19e-3a39c3d5658b",
   "metadata": {},
   "outputs": [],
   "source": [
    "d"
   ]
  },
  {
   "cell_type": "code",
   "execution_count": null,
   "id": "8f950a70-5f86-4202-9b29-a6b591e5f504",
   "metadata": {},
   "outputs": [],
   "source": [
    "del d['date_of_start']"
   ]
  },
  {
   "cell_type": "code",
   "execution_count": null,
   "id": "334f6f29-e3e7-48d0-9fd8-23241068e154",
   "metadata": {},
   "outputs": [],
   "source": [
    "d"
   ]
  },
  {
   "cell_type": "code",
   "execution_count": null,
   "id": "90d075d0-f8c3-415d-bda9-18980447b88a",
   "metadata": {},
   "outputs": [],
   "source": [
    "del d"
   ]
  },
  {
   "cell_type": "code",
   "execution_count": null,
   "id": "0a67b30c-6c5c-45dd-8fcd-6b430409343c",
   "metadata": {},
   "outputs": [],
   "source": [
    "d"
   ]
  },
  {
   "cell_type": "code",
   "execution_count": null,
   "id": "e9c4991c-d5a5-4f08-9474-b0af01cdf262",
   "metadata": {},
   "outputs": [],
   "source": [
    "d = {\"name\": [\"Ajay\", \"Bijay\", \"Sanjay\"], \"course\": (\"ds\", \"ml\")}"
   ]
  },
  {
   "cell_type": "code",
   "execution_count": null,
   "id": "6be404cf-1de9-4917-98c1-aef2d159d99e",
   "metadata": {},
   "outputs": [],
   "source": [
    "d.clear()"
   ]
  },
  {
   "cell_type": "code",
   "execution_count": null,
   "id": "a6b48a93-70d2-45b5-bac9-f5c9cc2c8054",
   "metadata": {},
   "outputs": [],
   "source": [
    "d"
   ]
  },
  {
   "cell_type": "code",
   "execution_count": null,
   "id": "408948c1-7fdb-457a-8e4a-812237a32183",
   "metadata": {},
   "outputs": [],
   "source": [
    "d = {\"name\": [\"Ajay\", \"Bijay\", \"Sanjay\"], \"course\": (\"ds\", \"ml\")}\n",
    "len(d)"
   ]
  },
  {
   "cell_type": "code",
   "execution_count": null,
   "id": "74f22f25-696a-44a2-bc6b-c01378e398be",
   "metadata": {},
   "outputs": [],
   "source": [
    "d"
   ]
  },
  {
   "cell_type": "code",
   "execution_count": null,
   "id": "103dd615-3805-470a-b818-4f246f85ed4c",
   "metadata": {},
   "outputs": [],
   "source": [
    "d.keys()"
   ]
  },
  {
   "cell_type": "code",
   "execution_count": null,
   "id": "3af55700-b039-483f-87ab-527ed232711f",
   "metadata": {},
   "outputs": [],
   "source": [
    "d.values()"
   ]
  },
  {
   "cell_type": "code",
   "execution_count": null,
   "id": "0cccced2-2561-4028-abf0-5d42751c6d55",
   "metadata": {},
   "outputs": [],
   "source": [
    "d.items()"
   ]
  },
  {
   "cell_type": "code",
   "execution_count": null,
   "id": "4595e166-246f-409c-8ac8-fe84b225b234",
   "metadata": {},
   "outputs": [],
   "source": [
    "d1 = d.copy()"
   ]
  },
  {
   "cell_type": "code",
   "execution_count": null,
   "id": "f7ffec16-90cc-4e42-8017-a359e469d588",
   "metadata": {},
   "outputs": [],
   "source": [
    "d1"
   ]
  },
  {
   "cell_type": "code",
   "execution_count": null,
   "id": "11d2ba2a-5f84-4249-806d-6eee0225b909",
   "metadata": {},
   "outputs": [],
   "source": [
    "del d1"
   ]
  },
  {
   "cell_type": "code",
   "execution_count": null,
   "id": "5e841f10-9071-48d2-9a85-56d7a19e7fdf",
   "metadata": {},
   "outputs": [],
   "source": [
    "d"
   ]
  },
  {
   "cell_type": "code",
   "execution_count": null,
   "id": "41e4c8ba-2838-48e4-8a34-2120b0dc283b",
   "metadata": {},
   "outputs": [],
   "source": [
    "d.pop('course')"
   ]
  },
  {
   "cell_type": "code",
   "execution_count": null,
   "id": "fa4b04f9-a3ce-49bd-b8a9-994e86595e79",
   "metadata": {},
   "outputs": [],
   "source": [
    "d"
   ]
  },
  {
   "cell_type": "code",
   "execution_count": null,
   "id": "b3ebe9a0-a8d3-403d-96ca-e0705cf2fac3",
   "metadata": {},
   "outputs": [],
   "source": [
    "d"
   ]
  },
  {
   "cell_type": "code",
   "execution_count": null,
   "id": "07030313-e7d7-4579-9e5f-e4bb513d1e8b",
   "metadata": {},
   "outputs": [],
   "source": [
    "d1 = {\"course\": \"DS\", \"start\": \"20th mar\"}"
   ]
  },
  {
   "cell_type": "code",
   "execution_count": null,
   "id": "9668af39-f617-4039-bfaa-71625e915461",
   "metadata": {},
   "outputs": [],
   "source": [
    "d1"
   ]
  },
  {
   "cell_type": "code",
   "execution_count": null,
   "id": "6d78a743-2999-46c3-85c4-8c6211e3d823",
   "metadata": {},
   "outputs": [],
   "source": [
    "d.update(d1)"
   ]
  },
  {
   "cell_type": "code",
   "execution_count": null,
   "id": "205beeb7-29f5-43b6-95ba-2eede83e8e91",
   "metadata": {},
   "outputs": [],
   "source": [
    "d"
   ]
  },
  {
   "cell_type": "code",
   "execution_count": null,
   "id": "a80a1fe7-92dc-4b84-a272-1b81f3aba204",
   "metadata": {},
   "outputs": [],
   "source": [
    "d['start']"
   ]
  },
  {
   "cell_type": "code",
   "execution_count": null,
   "id": "c3b6ef80-5be1-469a-8bf8-6ae47a391d21",
   "metadata": {},
   "outputs": [],
   "source": [
    "d.get('start')"
   ]
  },
  {
   "cell_type": "code",
   "execution_count": null,
   "id": "4a759337-a3da-48b0-998b-2da629114457",
   "metadata": {},
   "outputs": [],
   "source": [
    "d.fromkeys((1, 2, 3), ('a', 'b', 'c'))"
   ]
  },
  {
   "cell_type": "code",
   "execution_count": null,
   "id": "f6de8ae6-5aab-4219-b5da-7a74dca036a4",
   "metadata": {},
   "outputs": [],
   "source": [
    "#dictionary comprehension\n",
    "\n",
    "students = ['Arun', 'Ajay', 'Bob']\n",
    "marks = [80, 95, 90]\n",
    "\n",
    "student_marks = {}\n",
    "\n",
    "for student, mark in zip(students, marks):\n",
    "    student_marks[student] = mark "
   ]
  },
  {
   "cell_type": "code",
   "execution_count": null,
   "id": "68b7efb1-0b0d-406e-a79e-62eedca51583",
   "metadata": {},
   "outputs": [],
   "source": [
    "student_marks"
   ]
  },
  {
   "cell_type": "code",
   "execution_count": null,
   "id": "aa713c27-3ba7-4b2b-9746-5b8256aacc5c",
   "metadata": {},
   "outputs": [],
   "source": [
    "for i in zip(students, marks):\n",
    "    print(i)"
   ]
  },
  {
   "cell_type": "code",
   "execution_count": null,
   "id": "0942cd3b-9447-4a39-9e17-6cf571a3ca66",
   "metadata": {},
   "outputs": [],
   "source": [
    "{student:marks for student, marks in zip(students, marks)}"
   ]
  },
  {
   "cell_type": "code",
   "execution_count": null,
   "id": "95da650e-b9f7-42c0-b36d-c09fd258941a",
   "metadata": {},
   "outputs": [],
   "source": [
    "user_id = [1, 2, 3]\n",
    "user_name = [\"a21\", \"a22\", \"a33\"]\n",
    "{u_id:u_name for u_id, u_name in zip(user_id, user_name)}"
   ]
  },
  {
   "cell_type": "code",
   "execution_count": null,
   "id": "40759f0b-37cf-4458-81e0-2b1298551505",
   "metadata": {},
   "outputs": [],
   "source": [
    "employee_records = {\n",
    "    'E001': {'name': 'John Doe', 'department': 'Engineering', 'salary': 75000},\n",
    "    'E002': {'name': 'Jane Smith', 'department': 'Marketing', 'salary': 65000},\n",
    "    'E003': {'name': 'David Lee', 'department': 'Finance', 'salary': 80000}\n",
    "}"
   ]
  },
  {
   "cell_type": "code",
   "execution_count": null,
   "id": "0989ba6a-e1de-432b-aeec-0ba997ab38f8",
   "metadata": {},
   "outputs": [],
   "source": [
    "employee_records['E001']"
   ]
  },
  {
   "cell_type": "code",
   "execution_count": null,
   "id": "f13a12b8-a2d8-4bfd-a01e-9991f7569d2e",
   "metadata": {},
   "outputs": [],
   "source": [
    "restaurant_menu = {\n",
    "    'Dish1': {'name': 'Pasta Carbonara', 'price': 15.99, 'description': 'Creamy pasta with bacon and parmesan'},\n",
    "    'Dish2': {'name': 'Chicken Caesar Salad', 'price': 12.50, 'description': 'Grilled chicken with romaine lettuce and Caesar dressing'},\n",
    "    'Dish3': {'name': 'Margherita Pizza', 'price': 14.00, 'description': 'Pizza topped with tomato, mozzarella, and basil'}\n",
    "}"
   ]
  },
  {
   "cell_type": "code",
   "execution_count": null,
   "id": "e933c9a8-b4a2-484f-8ab3-69f3e3964a88",
   "metadata": {},
   "outputs": [],
   "source": [
    "restaurant_menu['Dish1']"
   ]
  },
  {
   "cell_type": "code",
   "execution_count": null,
   "id": "e94cb6ea-6ad3-4a88-8786-ece2ccfb080d",
   "metadata": {},
   "outputs": [],
   "source": [
    "restaurant_menu"
   ]
  },
  {
   "cell_type": "code",
   "execution_count": null,
   "id": "d547db95-d44f-43df-a850-3d83651d66ac",
   "metadata": {},
   "outputs": [],
   "source": [
    "#Dictionary view objects\n",
    "restaurant_menu.keys()"
   ]
  },
  {
   "cell_type": "code",
   "execution_count": null,
   "id": "a5bd80b2-5ccc-4a71-b0c2-09fb0b7495a2",
   "metadata": {},
   "outputs": [],
   "source": [
    "restaurant_menu.values()"
   ]
  },
  {
   "cell_type": "code",
   "execution_count": null,
   "id": "23a660fd-72f5-4df8-8e58-95a506a1c6fd",
   "metadata": {},
   "outputs": [],
   "source": [
    "restaurant_menu.items()"
   ]
  },
  {
   "cell_type": "code",
   "execution_count": null,
   "id": "a9ed874b-23a2-4939-80ef-b05dd7e2f59e",
   "metadata": {},
   "outputs": [],
   "source": []
  }
 ],
 "metadata": {
  "kernelspec": {
   "display_name": "Python 3 (ipykernel)",
   "language": "python",
   "name": "python3"
  },
  "language_info": {
   "codemirror_mode": {
    "name": "ipython",
    "version": 3
   },
   "file_extension": ".py",
   "mimetype": "text/x-python",
   "name": "python",
   "nbconvert_exporter": "python",
   "pygments_lexer": "ipython3",
   "version": "3.10.8"
  }
 },
 "nbformat": 4,
 "nbformat_minor": 5
}
